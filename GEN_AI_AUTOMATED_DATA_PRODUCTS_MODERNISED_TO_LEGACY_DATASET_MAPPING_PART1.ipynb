{
 "metadata": {
  "kernelspec": {
   "display_name": "Streamlit Notebook",
   "name": "streamlit"
  }
 },
 "nbformat_minor": 5,
 "nbformat": 4,
 "cells": [
  {
   "cell_type": "markdown",
   "id": "3775908f-ca36-4846-8f38-5adca39217f2",
   "metadata": {
    "name": "cell1",
    "collapsed": false
   },
   "source": "/*Introduction\nIn this Proof of Concept (POC) stage, we aim to address the challenge of comparing datasets and establishing mappings between a legacy data system and a modern data system. This document provides a glimpse of how we can achieve dataset comparison and produce a mapping between legacy data and modern datasets by leveraging vector embeddings ,Generative AI and advanced query techniques with Snowflake and Snowflake cortex AI.\n\nProblem Statement\nThe core problem we are tackling involves comparing two datasets: one from a legacy system and the other from a modern system. The goal is to identify and map corresponding fields between these datasets to ensure data consistency, accuracy, and usability in the modern system.\n\nApproach\nWe will create two schemas, one for the modern dataset (Deposit_Accounts_Onestream) and one for the legacy dataset (Legacy_Deposit_Accounts). Using these schemas, we will create metadata tables to store field descriptions. We will then use vector embeddings to compare the fields from both datasets and identify the top three most similar fields for each field in the modern dataset.\n\nThis POC demonstrates the steps and processes involved in creating these mappings and highlights the potential benefits of using vector embeddings for dataset comparison.*/"
  },
  {
   "cell_type": "code",
   "id": "8d50cbf4-0c8d-4950-86cb-114990437ac9",
   "metadata": {
    "language": "sql",
    "name": "cell2",
    "collapsed": false
   },
   "source": "--Create Your Own Database  and Schema and \nCREATE DATABASE SMART_AI_MAPPER;\nCREATE SCHEMA SMART_AI_MAPPER_TOOL;\n\nUSE SMART_AI_MAPPER.SMART_AI_MAPPER_TOOL;\n",
   "execution_count": null,
   "outputs": []
  },
  {
   "cell_type": "markdown",
   "id": "82739254-9761-446d-8c21-4889e618f1de",
   "metadata": {
    "name": "cell3",
    "collapsed": false
   },
   "source": "-- Create 2 new tables named Deposit_Accounts_Modernised  and Deposit_Accounts_Legacy to store customer and account information, this table should hold the sample data of the table.Whereas You can modify the scripts create tables with sample data with key columns for Modernised and Legacy dataset."
  },
  {
   "cell_type": "code",
   "id": "c695373e-ac74-4b62-a1f1-08206cbd5c81",
   "metadata": {
    "language": "sql",
    "name": "cell4",
    "collapsed": false
   },
   "source": "CREATE OR REPLACE TABLE Deposit_Accounts_Modernised(\n    Customer_ID VARCHAR(50) ,\n    First_Name VARCHAR(100),\n    Last_Name VARCHAR(100),\n    Date_of_Birth DATE,\n    SSN VARCHAR(11),\n    Email VARCHAR(100),\n    Phone_Number VARCHAR(15),\n    Address VARCHAR(200),\n    City VARCHAR(50),\n    State VARCHAR(50),\n    Zip_Code VARCHAR(10),\n    Account_Number VARCHAR(50) PRIMARY KEY,\n    Account_Type VARCHAR(50),\n    Account_Balance DECIMAL(18, 2),\n    Interest_Rate DECIMAL(5, 2),\n    Account_Status VARCHAR(20),\n    Date_Opened DATE,\n    Date_Closed DATE,\n    Branch_ID VARCHAR(50),\n    Last_Transaction_Date DATE,\n    KYC_Status VARCHAR(20),\n    Risk_Level VARCHAR(20),\n    Marketing_Opt_In BOOLEAN,\n    Created_Timestamp TIMESTAMP,\n    Updated_Timestamp TIMESTAMP\n);\n\nINSERT INTO Deposit_Accounts_Modernised (\n    Customer_ID, First_Name, Last_Name, Date_of_Birth, SSN, Email, Phone_Number,\n    Address, City, State, Zip_Code, Account_Number, Account_Type, Account_Balance,\n    Interest_Rate, Account_Status, Date_Opened, Date_Closed, Branch_ID, Last_Transaction_Date,\n    KYC_Status, Risk_Level, Marketing_Opt_In, Created_Timestamp, Updated_Timestamp\n) VALUES\n(\n    'CUST001', 'John', 'Doe', '1980-01-15', '123-45-6789', 'john.doe@example.com', '555-1234',\n    '123 Maple St', 'Springfield', 'IL', '62701', 'ACC12345', 'Savings', 1000.50,\n    1.50, 'Active', '2023-01-01', NULL, 'BR001', '2024-07-25',\n    'Verified', 'Low', TRUE, '2023-01-01 09:00:00', '2024-07-25 10:00:00'\n),\n(\n    'CUST002', 'Jane', 'Smith', '1990-02-20', '987-65-4321', 'jane.smith@example.com', '555-5678',\n    '456 Oak St', 'Greenfield', 'WI', '53220', 'ACC23456', 'Checking', 2500.75,\n    0.75, 'Active', '2022-05-15', NULL, 'BR002', '2024-07-24',\n    'Verified', 'Medium', FALSE, '2022-05-15 10:30:00', '2024-07-24 15:00:00'\n),\n(\n    'CUST003', 'Michael', 'Johnson', '1975-03-10', '456-78-9123', 'michael.johnson@example.com', '555-9876',\n    '789 Pine St', 'Lakeview', 'MN', '55401', 'ACC34567', 'Savings', 1500.00,\n    1.25, 'Active', '2023-07-01', NULL, 'BR003', '2024-07-23',\n    'Pending', 'High', TRUE, '2023-07-01 14:00:00', '2024-07-23 13:00:00'\n),\n(\n    'CUST004', 'Emily', 'Davis', '1985-04-25', '321-54-9876', 'emily.davis@example.com', '555-3456',\n    '321 Cedar St', 'Hilltown', 'OH', '44101', 'ACC45678', 'Checking', 3200.00,\n    0.50, 'Active', '2021-11-20', NULL, 'BR004', '2024-07-22',\n    'Verified', 'Low', FALSE, '2021-11-20 08:45:00', '2024-07-22 09:15:00'\n),\n(\n    'CUST005', 'David', 'Williams', '1995-06-30', '654-32-1987', 'david.williams@example.com', '555-6543',\n    '654 Birch St', 'Mapleton', 'PA', '17055', 'ACC56789', 'Savings', 500.00,\n    1.75, 'Inactive', '2022-12-10', '2023-12-10', 'BR005', '2023-12-09',\n    'Verified', 'Medium', TRUE, '2022-12-10 11:00:00', '2023-12-10 11:00:00'\n);\n\nCREATE OR REPLACE TABLE Deposit_Accounts_Legacy (\n    Cust_ID VARCHAR(50) ,\n    F_Name VARCHAR(100),\n    L_Name VARCHAR(100),\n    DOB DATE,\n    Social_Security_Number VARCHAR(11),\n    Email_Address VARCHAR(100),\n    Phone VARCHAR(15),\n    Addr VARCHAR(200),\n    City VARCHAR(50),\n    State VARCHAR(50),\n    Postal_Code VARCHAR(10),\n    Acct_Num VARCHAR(50) PRIMARY KEY,\n    Acct_Type VARCHAR(50),\n    Acct_Balance DECIMAL(18, 2),\n    Interest DECIMAL(5, 2),\n    Acct_Status VARCHAR(20),\n    Open_Date DATE,\n    Close_Date DATE,\n    Branch_ID VARCHAR(50),\n    Last_Trans_Date DATE,\n    KYC VARCHAR(20),\n    Risk VARCHAR(20),\n    Marketing_Consent BOOLEAN,\n    Creation_Timestamp TIMESTAMP,\n    Modification_Timestamp TIMESTAMP,\n    Middle_Name VARCHAR(100),\n    Nationality VARCHAR(50),\n    Employment_Status VARCHAR(50)\n);\n\nINSERT INTO Deposit_Accounts_Legacy (\n    Cust_ID, F_Name, L_Name, DOB, Social_Security_Number, Email_Address, Phone,\n    Addr, City, State, Postal_Code, Acct_Num, Acct_Type, Acct_Balance, Interest,\n    Acct_Status, Open_Date, Close_Date, Branch_ID, Last_Trans_Date, KYC, Risk,\n    Marketing_Consent, Creation_Timestamp, Modification_Timestamp, Middle_Name,\n    Nationality, Employment_Status\n) VALUES\n(\n    'CUST001', 'John', 'Doe', '1980-01-15', '123-45-6789', 'john.doe@example.com', '555-1234',\n    '123 Maple St', 'Springfield', 'IL', '62701', 'ACC12345', 'Savings', 1000.50, 1.5000,\n    'Active', '2023-01-01', NULL, 'BR001', '2024-07-25', 'Verified', 'Low', TRUE,\n    '2023-01-01 09:00:00', '2024-07-25 10:00:00', 'Michael', 'USA', 'Employed'\n),\n(\n    'CUST002', 'Jane', 'Smith', '1990-02-20', '987-65-4321', 'jane.smith@example.com', '555-5678',\n    '456 Oak St', 'Greenfield', 'WI', '53220', 'ACC23456', 'Checking', 2500.7500, 0.7500,\n    'Active', '2022-05-15', NULL, 'BR002', '2024-07-24', 'Verified', 'Medium', FALSE,\n    '2022-05-15 10:30:00', '2024-07-24 15:00:00', 'Ann', 'USA', 'Self-employed'\n),\n(\n    'CUST003', 'Michael', 'Johnson', '1975-03-10', '456-78-9123', 'michael.johnson@example.com', '555-9876',\n    '789 Pine St', 'Lakeview', 'MN', '55401', 'ACC34567', 'Savings', 1500.00, 1.2500,\n    'Active', '2023-07-01', NULL, 'BR003', '2024-07-23', 'Pending', 'High', TRUE,\n    '2023-07-01 14:00:00', '2024-07-23 13:00:00', 'Edward', 'Canada', 'Unemployed'\n),\n(\n    'CUST004', 'Emily', 'Davis', '1985-04-25', '321-54-9876', 'emily.davis@example.com', '555-3456',\n    '321 Cedar St', 'Hilltown', 'OH', '44101', 'ACC45678', 'Checking', 3200.00, 0.5000,\n    'Active', '2021-11-20', NULL, 'BR004', '2024-07-22', 'Verified', 'Low', FALSE,\n    '2021-11-20 08:45:00', '2024-07-22 09:15:00', 'Marie', 'UK', 'Part-time'\n),\n(\n    'CUST005', 'David', 'Williams', '1995-06-30', '654-32-1987', 'david.williams@example.com', '555-6543',\n    '654 Birch St', 'Mapleton', 'PA', '17055', 'ACC56789', 'Savings', 500.00, 1.7500,\n    'Inactive', '2022-12-10', '2023-12-10', 'BR005', '2023-12-09', 'Verified', 'Medium', TRUE,\n    '2022-12-10 11:00:00', '2023-12-10 11:00:00', 'Charles', 'Australia', 'Retired'\n);",
   "execution_count": null,
   "outputs": []
  },
  {
   "cell_type": "markdown",
   "id": "4f3566f5-7704-4dfd-a146-48189436891a",
   "metadata": {
    "name": "cell5",
    "collapsed": false
   },
   "source": "Next Step is to insert the metadata and field level description of modernised dataset, which will be used to compare modernised table field level - Legacy table field level using vector embeddings."
  },
  {
   "cell_type": "code",
   "id": "5c80677e-f5a2-44cc-9e05-24d26574e3a4",
   "metadata": {
    "language": "sql",
    "name": "cell6",
    "collapsed": false
   },
   "outputs": [],
   "source": "CREATE OR REPLACE TABLE Attribute_level_Metadata (\n    Table_Name VARCHAR(100), \n    Field_Name VARCHAR(100),\n    Description VARCHAR(1000)\n);\n\nDELETE FROM Attribute_level_Metadata WHERE Table_Name='Deposit_Accounts_Modernised_Metadata';\n\nINSERT INTO Attribute_level_Metadata (Table_Name, Field_Name, Description) VALUES\n('Deposit_Accounts_Modernised_Metadata', 'Customer_ID', 'A unique identifier for each customer. This field ensures that each customer can be distinctly recognized and associated with their corresponding data.'),\n('Deposit_Accounts_Modernised_Metadata', 'First_Name', 'The first name of the customer. Used for identification and communication purposes.'),\n('Deposit_Accounts_Modernised_Metadata', 'Last_Name', 'The last name of the customer. Used for identification and communication purposes.'),\n('Deposit_Accounts_Modernised_Metadata', 'Date_of_Birth', 'The customer\\'s date of birth. This is non-public information used for verification and age-related services.'),\n('Deposit_Accounts_Modernised_Metadata', 'SSN', 'The customer\\'s Social Security Number. This is highly sensitive non-public information used for identification and fraud prevention.'),\n('Deposit_Accounts_Modernised_Metadata', 'Email', 'The customer\\'s email address. This non-public information is used for communication and notification purposes.'),\n('Deposit_Accounts_Modernised_Metadata', 'Phone_Number', 'The customer\\'s phone number. This non-public information is used for communication and notification purposes.'),\n('Deposit_Accounts_Modernised_Metadata', 'Address', 'The residential address of the customer. This is used for verification, correspondence, and service delivery.'),\n('Deposit_Accounts_Modernised_Metadata', 'City', 'The city where the customer resides. This is part of the customer\\'s address information.'),\n('Deposit_Accounts_Modernised_Metadata', 'State', 'The state where the customer resides. This is part of the customer\\'s address information.'),\n('Deposit_Accounts_Modernised_Metadata', 'Zip_Code', 'The zip code of the customer\\'s residence. This is part of the customer\\'s address information.'),\n('Deposit_Accounts_Modernised_Metadata', 'Account_Number', 'A unique identifier for each deposit account. This ensures each account can be distinctly recognized and managed.'),\n('Deposit_Accounts_Modernised_Metadata', 'Account_Type', 'The type of deposit account (e.g., Savings, Checking). This categorizes the account based on its purpose and features.'),\n('Deposit_Accounts_Modernised_Metadata', 'Account_Balance', 'The current balance in the deposit account. This reflects the available funds in the account.'),\n('Deposit_Accounts_Modernised_Metadata', 'Interest_Rate', 'The interest rate applicable to the deposit account. This indicates the percentage of interest earned or charged on the account balance.'),\n('Deposit_Accounts_Modernised_Metadata', 'Account_Status', 'The status of the account (e.g., Active, Closed). This indicates whether the account is currently operational or has been closed.'),\n('Deposit_Accounts_Modernised_Metadata', 'Date_Opened', 'The date when the account was opened. This records the start date of the account.'),\n('Deposit_Accounts_Modernised_Metadata', 'Date_Closed', 'The date when the account was closed, if applicable. This records the end date of the account.'),\n('Deposit_Accounts_Modernised_Metadata', 'Branch_ID', 'The identifier for the branch where the account was opened. This links the account to its originating branch.'),\n('Deposit_Accounts_Modernised_Metadata', 'Last_Transaction_Date', 'The date of the last transaction in the account. This indicates the most recent activity in the account.'),\n('Deposit_Accounts_Modernised_Metadata', 'KYC_Status', 'The Know Your Customer status (e.g., Verified, Pending). This indicates whether the customer has been verified according to KYC regulations.'),\n('Deposit_Accounts_Modernised_Metadata', 'Risk_Level', 'The risk level assigned to the customer/account. This is used for monitoring and managing potential risks.'),\n('Deposit_Accounts_Modernised_Metadata', 'Marketing_Opt_In', 'Indicates if the customer has opted in for marketing communications. This shows the customer\\'s preference for receiving promotional material.'),\n('Deposit_Accounts_Modernised_Metadata', 'Created_Timestamp', 'The timestamp when the record was created. This records the exact time the record was added to the database.'),\n('Deposit_Accounts_Modernised_Metadata', 'Updated_Timestamp', 'The timestamp when the record was last updated. This records the last modification time for the record.');\n\nDELETE FROM Attribute_level_Metadata WHERE Table_Name='Deposit_Accounts_Legacy_Metadata';\n\nINSERT INTO Attribute_level_Metadata\n(Table_Name,Field_Name, Description) VALUES\n('Deposit_Accounts_Legacy_Metadata','Cust_ID', 'Unique identifier for each customer.'),\n('Deposit_Accounts_Legacy_Metadata','F_Name', 'Customer\\'s first name.'),\n('Deposit_Accounts_Legacy_Metadata','L_Name', 'Customer\\'s last name.'),\n('Deposit_Accounts_Legacy_Metadata','DOB', 'Customer\\'s date of birth (Non-Public Information).'),\n('Deposit_Accounts_Legacy_Metadata','Social_Security_Number', 'Customer\\'s Social Security Number (Non-Public Information, Payment Card Information).'),\n('Deposit_Accounts_Legacy_Metadata','Email_Address', 'Customer\\'s email address (Non-Public Information).'),\n('Deposit_Accounts_Legacy_Metadata','Phone', 'Customer\\'s phone number (Non-Public Information).'),\n('Deposit_Accounts_Legacy_Metadata','Addr', 'Customer\\'s residential address.'),\n('Deposit_Accounts_Legacy_Metadata','City', 'City of the customer\\'s residence.'),\n('Deposit_Accounts_Legacy_Metadata','State', 'State of the customer\\'s residence.'),\n('Deposit_Accounts_Legacy_Metadata','Postal_Code', 'Zip code of the customer\\'s residence.'),\n('Deposit_Accounts_Legacy_Metadata','Acct_Num', 'Unique identifier for each deposit account.'),\n('Deposit_Accounts_Legacy_Metadata','Acct_Type', 'Type of deposit account (e.g., Savings, Checking).'),\n('Deposit_Accounts_Legacy_Metadata','Acct_Balance', 'Current balance in the deposit account.'),\n('Deposit_Accounts_Legacy_Metadata','Interest', 'Interest rate applicable to the deposit account.'),\n('Deposit_Accounts_Legacy_Metadata','Acct_Status', 'Status of the account (e.g., Active, Closed).'),\n('Deposit_Accounts_Legacy_Metadata','Open_Date', 'Date when the account was opened.'),\n('Deposit_Accounts_Legacy_Metadata','Close_Date', 'Date when the account was closed (if applicable).'),\n('Deposit_Accounts_Legacy_Metadata','Branch_ID', 'Identifier for the branch where the account was opened.'),\n('Deposit_Accounts_Legacy_Metadata','Last_Trans_Date', 'Date of the last transaction in the account.'),\n('Deposit_Accounts_Legacy_Metadata','KYC', 'Know Your Customer status (e.g., Verified, Pending).'),\n('Deposit_Accounts_Legacy_Metadata','Risk', 'Risk level assigned to the customer/account.'),\n('Deposit_Accounts_Legacy_Metadata','Marketing_Consent', 'Indicates if the customer has opted in for marketing communications.'),\n('Deposit_Accounts_Legacy_Metadata','Creation_Timestamp', 'Timestamp when the record was created.'),\n('Deposit_Accounts_Legacy_Metadata','Modification_Timestamp', 'Timestamp when the record was last updated.'),\n('Deposit_Accounts_Legacy_Metadata','Middle_Name', 'Customer\\'s middle name.'),\n('Deposit_Accounts_Legacy_Metadata','Nationality', 'Customer\\'s nationality.'),\n('Deposit_Accounts_Legacy_Metadata','Employment_Status', 'Customer\\'s employment status.');",
   "execution_count": null
  },
  {
   "cell_type": "code",
   "id": "bda9d1cc-0a79-4d1c-b8d4-dbcb1d31ba29",
   "metadata": {
    "language": "sql",
    "name": "cell7",
    "collapsed": false
   },
   "outputs": [],
   "source": "--Check Sampling of Meata Data\n\nSELECT TOP 2 * FROM Attribute_level_Metadata where table_name='Deposit_Accounts_Modernised_Metadata' \n\nUNION ALL\n\nSELECT TOP 2 * FROM Attribute_level_Metadata where table_name='Deposit_Accounts_Legacy_Metadata' ;\n",
   "execution_count": null
  },
  {
   "cell_type": "code",
   "id": "75bb4cf7-4e9f-435f-95b7-45f4faf9cf90",
   "metadata": {
    "language": "sql",
    "name": "cell8",
    "collapsed": false
   },
   "outputs": [],
   "source": "--Check Sampling of both Table Data of Modernised/Legacy\n\nSELECT TOP 2 * FROM Deposit_Accounts_Modernised\n",
   "execution_count": null
  },
  {
   "cell_type": "code",
   "id": "1e2ff706-e2e6-4950-96fb-4e5664c12ba4",
   "metadata": {
    "language": "sql",
    "name": "cell9",
    "collapsed": false
   },
   "outputs": [],
   "source": "SELECT TOP 2 * FROM Deposit_Accounts_Legacy;",
   "execution_count": null
  },
  {
   "cell_type": "code",
   "id": "3dd91b2f-2c3d-4ce4-8af7-ca63265f0d91",
   "metadata": {
    "language": "sql",
    "name": "cell10",
    "collapsed": false
   },
   "outputs": [],
   "source": "---DDL TO CREATE VECTOR EMBEDDINGS TABLE\nCREATE or REPLACE TABLE FIELD_LEVEL_METADATA_WITH_VEC_EMB (\n    Table_Name VARCHAR(100), \n    Field_Name VARCHAR(100),\n    Description VARCHAR(1000),\n\tVEC_EMB_DESC VECTOR(FLOAT, 768)\n);",
   "execution_count": null
  },
  {
   "cell_type": "code",
   "id": "ad3275f0-b10f-476b-ac19-8b90eac9270d",
   "metadata": {
    "language": "sql",
    "name": "cell11",
    "collapsed": false
   },
   "outputs": [],
   "source": "--DERIVE THE VECTOR EMBEDDING USING LLM EMBEDDING MODEL snowflake-arctic-embed-m\n\n\nINSERT INTO FIELD_LEVEL_METADATA_WITH_VEC_EMB\nSELECT \nTable_Name,\nField_Name,\nCONCAT(Field_Name,'-',Description) AS Description,\nSNOWFLAKE.CORTEX.EMBED_TEXT_768('snowflake-arctic-embed-m',Description) AS VEC_EMB_DESC FROM Attribute_level_Metadata\nWHERE Table_Name IN ('Deposit_Accounts_Modernised_Metadata',\n'Deposit_Accounts_Legacy_Metadata')",
   "execution_count": null
  },
  {
   "cell_type": "code",
   "id": "36b143ca-8583-40b2-afe6-b9b401e4ff35",
   "metadata": {
    "language": "sql",
    "name": "cell12",
    "collapsed": false
   },
   "outputs": [],
   "source": "SELECT TOP 2 * FROM FIELD_LEVEL_METADATA_WITH_VEC_EMB\nWHERE Table_Name ='Deposit_Accounts_Modernised_Metadata'\nUNION ALL\nSELECT TOP 2 * FROM FIELD_LEVEL_METADATA_WITH_VEC_EMB\nWHERE Table_Name ='Deposit_Accounts_Legacy_Metadata'",
   "execution_count": null
  },
  {
   "cell_type": "code",
   "id": "1e657c8a-0295-40ec-b84e-3020b3d41497",
   "metadata": {
    "language": "sql",
    "name": "cell13",
    "collapsed": false
   },
   "outputs": [],
   "source": "CREATE or REPLACE TABLE TOP_3_SIMILAR_FIELDS_FROM_VEC_EMB (\n    Vector_Mapping_For_Table_Name VARCHAR(1000), \n    Modernised_Table_Field_Name VARCHAR(100),\n\tTOP_SIMILARITIES_LEGACY_FIELDS VARCHAR(16777216)\n);",
   "execution_count": null
  },
  {
   "cell_type": "code",
   "id": "0fe5de49-c53d-4e2e-a538-3d3d09024659",
   "metadata": {
    "language": "sql",
    "name": "cell14",
    "collapsed": false
   },
   "outputs": [],
   "source": "DELETE FROM TOP_3_SIMILAR_FIELDS_FROM_VEC_EMB\nWHERE \nVector_Mapping_For_Table_Name=' DEPOSIT_ACCOUNTS_MODERNISED_METADATA_MAPPED_DEPOSIT_ACCOUNTS_LEGACY_METADATA';\n\nINSERT INTO TOP_3_SIMILAR_FIELDS_FROM_VEC_EMB\nSELECT \n        UPPER(Vector_Mapping_For_Table_Name) AS Vector_Mapping_For_Table_Name,\n        MODERNISED_FIELD_NAME ,\n        top_similarities\n    FROM (\n        SELECT \n            Vector_Mapping_For_Table_Name,\n            MODERNISED_FIELD_NAME,\n            LISTAGG(CONCAT(LEGACY_FIELD_NAME,'-Similarity',similarity,'|')) within group \n            (ORDER BY similarity DESC) AS top_similarities\n        FROM (\n            SELECT \n            Vector_Mapping_For_Table_Name,\n                MODERNISED_FIELD_NAME,\n                LEGACY_FIELD_NAME,\n                similarity,\n                ROW_NUMBER() OVER (PARTITION BY Vector_Mapping_For_Table_Name,MODERNISED_FIELD_NAME ORDER BY similarity DESC) AS rank\n            FROM (\n                SELECT \n                CONCAT(TRIM(MODERNISED.Table_Name),'_Mapped_',\n                TRIM(LEGACY.Table_Name))        \n                 AS Vector_Mapping_For_Table_Name,\n                    MODERNISED.FIELD_NAME AS MODERNISED_FIELD_NAME,\n                    LEGACY.FIELD_NAME AS LEGACY_FIELD_NAME,\n                    VECTOR_COSINE_SIMILARITY(MODERNISED.VEC_EMB_DESC, LEGACY.VEC_EMB_DESC) AS similarity\n                FROM \n                (\n                SELECT * FROM FIELD_LEVEL_METADATA_WITH_VEC_EMB\n                WHERE Table_Name='Deposit_Accounts_Modernised_Metadata'\n                )MODERNISED\n                CROSS JOIN                 (\n                SELECT * FROM FIELD_LEVEL_METADATA_WITH_VEC_EMB\n                WHERE Table_Name='Deposit_Accounts_Legacy_Metadata'\n                )LEGACY \n                \n            ) AS Similarity_CTE\n        ) AS Ranked_Similarities\n        WHERE rank <= 3\n        GROUP BY Vector_Mapping_For_Table_Name,MODERNISED_FIELD_NAME\n    ) AS Top_Similarities;",
   "execution_count": null
  },
  {
   "cell_type": "code",
   "id": "a1564ba8-a937-46eb-a835-354422698aac",
   "metadata": {
    "language": "sql",
    "name": "cell15",
    "collapsed": false
   },
   "outputs": [],
   "source": "SELECT TOP 3 * FROM TOP_3_SIMILAR_FIELDS_FROM_VEC_EMB;",
   "execution_count": null
  }
 ]
}
